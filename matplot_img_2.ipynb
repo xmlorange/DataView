{
 "cells": [
  {
   "cell_type": "code",
   "execution_count": 1,
   "metadata": {},
   "outputs": [],
   "source": [
    "\n",
    "import matplotlib.pyplot as plt\n",
    "import numpy as np\n",
    "\n",
    "# 解决坐标轴负刻度乱码问题\n",
    "plt.rcParams['axes.unicode_minus'] = False\n",
    "# 解决中文乱码问题\n",
    "plt.rcParams['font.sans-serif'] = ['Simhei']\n"
   ]
  },
  {
   "cell_type": "code",
   "execution_count": 5,
   "metadata": {},
   "outputs": [],
   "source": [
    "x = np.linspace(0, 2 * np.pi, 50)\n",
    "y = np.random.random(50)\n",
    "plt.scatter(x, y)\n",
    "plt.show()\n"
   ]
  },
  {
   "cell_type": "code",
   "execution_count": 7,
   "metadata": {},
   "outputs": [],
   "source": [
    "x = np.random.randint(1, 100, 100)\n",
    "y = np.random.rand(100)\n",
    "\n",
    "size = np.random.rand(100) * 500\n",
    "color = np.random.rand(100)\n",
    "\n",
    "plt.rc('figure', figsize=(10, 4))\n",
    "plt.scatter(\n",
    "    x, y, size, color,\n",
    "    alpha=.3,\n",
    "    # linewidths=2\n",
    ")\n",
    "plt.colorbar()  # 显示色条\n",
    "plt.show()\n"
   ]
  },
  {
   "cell_type": "code",
   "execution_count": 8,
   "metadata": {},
   "outputs": [],
   "source": [
    "size = 5\n",
    "a = np.random.random(size)\n",
    "x = np.arange(size)\n",
    "\n",
    "plt.bar(x, a)\n",
    "plt.show()\n"
   ]
  },
  {
   "cell_type": "code",
   "execution_count": 9,
   "metadata": {},
   "outputs": [],
   "source": [
    "size = 5\n",
    "a = np.random.random(size)\n",
    "b = np.random.random(size)\n",
    "c = np.random.random(size)\n",
    "x = np.arange(size)\n",
    "\n",
    "total_width, n = 0.8, 3\n",
    "width = total_width / n\n",
    "x = x - (total_width - width) / 2\n",
    "\n",
    "plt.bar(x, a, width=width, label='a')\n",
    "plt.bar(x + width, b, width=width, label='b')\n",
    "plt.bar(x + width * 2, c, width=width, label='c')\n",
    "\n",
    "plt.legend()\n",
    "plt.show()\n"
   ]
  },
  {
   "cell_type": "code",
   "execution_count": 5,
   "metadata": {},
   "outputs": [],
   "source": [
    "n = 5\n",
    "men_means = (20, 35, 30, 27, 35)\n",
    "women_means = (25, 30, 28, 10, 35)\n",
    "ind = np.arange(n)\n",
    "width = 0.35\n",
    "\n",
    "p1 = plt.bar(ind, men_means, width, color='#d62728')\n",
    "p2 = plt.bar(ind, women_means, width, bottom=men_means)\n",
    "plt.ylabel('Scores')\n",
    "plt.title('Score by group and gender')\n",
    "plt.xticks(ind, (\"G1\", \"G2\", \"G3\", \"G4\", \"G5\"))\n",
    "plt.yticks(np.arange(0, 81, 10))\n",
    "\n",
    "plt.legend((p1[0], p2[0]), ('Men', 'Women'))\n",
    "plt.show()\n"
   ]
  },
  {
   "cell_type": "code",
   "execution_count": 13,
   "metadata": {},
   "outputs": [],
   "source": [
    "n = 5\n",
    "men_means = (20, 35, 30, 27, 35)\n",
    "women_means = (25, 30, 28, 10, 35)\n",
    "\n",
    "men_std = (2, 3, 4, 1, 2)\n",
    "women_std = (3, 5, 2, 3, 3)\n",
    "\n",
    "ind = np.arange(n)\n",
    "width = 0.35\n",
    "\n",
    "plt.bar(ind, men_means, width, color='#d62728', label='men', yerr=men_std)\n",
    "plt.bar(ind, women_means, width, bottom=men_means, label='women', yerr=women_std)\n",
    "\n",
    "plt.ylabel('Scores')\n",
    "plt.title('Score by group and gender')\n",
    "plt.xticks(ind, (\"G1\", \"G2\", \"G3\", \"G4\", \"G5\"))\n",
    "plt.yticks(np.arange(0, 81, 10))\n",
    "\n",
    "plt.legend()\n",
    "plt.show()\n"
   ]
  },
  {
   "cell_type": "code",
   "execution_count": 7,
   "metadata": {},
   "outputs": [],
   "source": [
    "plt.hist?"
   ]
  },
  {
   "cell_type": "code",
   "execution_count": 8,
   "metadata": {},
   "outputs": [],
   "source": [
    "\"\"\"直方图\"\"\"\n",
    "x = np.random.randn(100)\n",
    "plt.hist(x, 10)\n",
    "plt.show()"
   ]
  },
  {
   "cell_type": "code",
   "execution_count": 16,
   "metadata": {},
   "outputs": [],
   "source": [
    "x = np.random.randn(100)\n",
    "plt.hist(x, 10, orientation='horizontal')  # horizontal 水平的  vertical 垂直的\n",
    "plt.show()"
   ]
  },
  {
   "cell_type": "code",
   "execution_count": 18,
   "metadata": {
    "collapsed": true
   },
   "outputs": [
    {
     "name": "stderr",
     "output_type": "stream",
     "text": [
      "C:\\Python\\Python37\\lib\\site-packages\\ipykernel_launcher.py:11: MatplotlibDeprecationWarning: scipy.stats.norm.pdf\n",
      "  # This is added back by InteractiveShellApp.init_path()\n"
     ]
    }
   ],
   "source": [
    "# 返回指定均值和标准差的正态分布的概率分布函数\n",
    "import matplotlib.mlab as mlab\n",
    "\n",
    "mu = 100  # 均值\n",
    "sigma = 5  # 标准差\n",
    "x = mu + sigma * np.random.randn(1000)\n",
    "\n",
    "n, bins, patches = plt.hist(x, 50, density=1)\n",
    "\n",
    "# 添加拟合曲线\n",
    "y = mlab.normpdf(bins, mu, sigma)\n",
    "plt.plot(bins, y, '--')\n",
    "plt.xlabel('Smarts')\n",
    "plt.ylabel('Probability density')\n",
    "plt.title(r'Histogram of IQ: $\\mu=100$, $\\sigma=15$')\n",
    "\n",
    "# 调整间距 防止 ylabel 被覆盖\n",
    "plt.tight_layout()\n",
    "plt.show()"
   ]
  },
  {
   "cell_type": "code",
   "execution_count": 19,
   "metadata": {},
   "outputs": [],
   "source": [
    "# 饼图 \n",
    "labels = 'Frogs', 'Hogs', 'Dogs', 'Logs'\n",
    "sizes = [15, 30, 45, 10]\n",
    "explode = (0, 0.1, 0, 0)  # 突出Hogs\n",
    "\n",
    "fig, ax = plt.subplots()\n",
    "ax.pie(sizes, explode=explode, labels=labels, autopct='%1.1f%%', shadow=True, startangle=90)\n",
    "\n",
    "# 相等的纵横比，确保饼是圆的\n",
    "ax.axis('equal')\n",
    "plt.show()"
   ]
  },
  {
   "cell_type": "code",
   "execution_count": 31,
   "metadata": {
    "collapsed": true
   },
   "outputs": [
    {
     "ename": "SyntaxError",
     "evalue": "invalid syntax (<ipython-input-31-01dd43de87de>, line 28)",
     "output_type": "error",
     "traceback": [
      "\u001b[1;36m  File \u001b[1;32m\"<ipython-input-31-01dd43de87de>\"\u001b[1;36m, line \u001b[1;32m28\u001b[0m\n\u001b[1;33m    plt.show()\u001b[0m\n\u001b[1;37m      ^\u001b[0m\n\u001b[1;31mSyntaxError\u001b[0m\u001b[1;31m:\u001b[0m invalid syntax\n"
     ]
    }
   ],
   "source": [
    "# 箱线图  小提琴图\n",
    "import pandas as pd\n",
    "\n",
    "df = pd.read_excel(r'1-3月份学员数据.xlsx')\n",
    "df = df.iloc[1:, 1:]\n",
    "data = df.values\n",
    "fig, axes = plt.subplots(nrows=1, ncols=2, figsize=(14, 4))\n",
    "\n",
    "axes[0].violinplot(data, \n",
    "                   vert=False,\n",
    "                   shomeans=True,\n",
    "                   showmedians=True)\n",
    "axes[0].set_title('Violin plot')\n",
    "\n",
    "axes[1].boxplot(data, sym='r*', meanline=False, showmeans=True)\n",
    "axes[1].set_title('Box plot')\n",
    "\n",
    "# 添加网格\n",
    "for ax in axes:\n",
    "    ax.yaxis.grid(True)\n",
    "    ax.set_ylim(0, 50)\n",
    "    ax.set_xticks([y + 1 for y in range(len(data))])\n",
    "    ax.set_xlabel('不同分馆')\n",
    "    ax.set_ylabel('观测')\n",
    "    \n",
    "plt.step(axes, xticklabels=['1', '2', '3'])\n",
    "\n",
    "plt.show()"
   ]
  },
  {
   "cell_type": "code",
   "execution_count": 43,
   "metadata": {},
   "outputs": [],
   "source": [
    "# 注解显示\n",
    "x = np.linspace(0, 10, 1000)\n",
    "y = np.sin(x)\n",
    "plt.plot(x, y, label='$sin(x)$', color='red', linewidth=3)\n",
    "\n",
    "plt.text(2, 0, '文本在（2,0）这个点', family='Simhei', fontsize=10)\n",
    "plt.arrow(4, -0.5, 0.5, 0.5)  # 两点连成线\n",
    "plt.annotate('注解', xy=(0.5, 0.5), xytext=(1, -0.25), arrowprops=dict(arrowstyle='->'))\n",
    "plt.show()\n"
   ]
  },
  {
   "cell_type": "code",
   "execution_count": 35,
   "metadata": {},
   "outputs": [
    {
     "name": "stdout",
     "output_type": "stream",
     "text": [
      "['bmh', 'classic', 'dark_background', 'fast', 'fivethirtyeight', 'ggplot', 'grayscale', 'seaborn-bright', 'seaborn-colorblind', 'seaborn-dark-palette', 'seaborn-dark', 'seaborn-darkgrid', 'seaborn-deep', 'seaborn-muted', 'seaborn-notebook', 'seaborn-paper', 'seaborn-pastel', 'seaborn-poster', 'seaborn-talk', 'seaborn-ticks', 'seaborn-white', 'seaborn-whitegrid', 'seaborn', 'Solarize_Light2', 'tableau-colorblind10', '_classic_test']\n"
     ]
    }
   ],
   "source": [
    "print(plt.style.available)"
   ]
  },
  {
   "cell_type": "code",
   "execution_count": 42,
   "metadata": {},
   "outputs": [],
   "source": [
    "plt.style.use('seaborn-dark')  # 全局样式"
   ]
  },
  {
   "cell_type": "code",
   "execution_count": 47,
   "metadata": {},
   "outputs": [],
   "source": [
    "# 临时样式  使用with代码块\n",
    "with plt.style.context(('grayscale')):\n",
    "    plt.plot(np.sin(np.linspace(0, 2 * np.pi)), 'r-o')\n",
    "    plt.show()\n"
   ]
  },
  {
   "cell_type": "code",
   "execution_count": 2,
   "metadata": {},
   "outputs": [
    {
     "data": {
      "text/html": [
       "<div>\n",
       "<style scoped>\n",
       "    .dataframe tbody tr th:only-of-type {\n",
       "        vertical-align: middle;\n",
       "    }\n",
       "\n",
       "    .dataframe tbody tr th {\n",
       "        vertical-align: top;\n",
       "    }\n",
       "\n",
       "    .dataframe thead th {\n",
       "        text-align: right;\n",
       "    }\n",
       "</style>\n",
       "<table border=\"1\" class=\"dataframe\">\n",
       "  <thead>\n",
       "    <tr style=\"text-align: right;\">\n",
       "      <th></th>\n",
       "      <th>A</th>\n",
       "      <th>B</th>\n",
       "      <th>C</th>\n",
       "      <th>D</th>\n",
       "    </tr>\n",
       "  </thead>\n",
       "  <tbody>\n",
       "    <tr>\n",
       "      <th>aaa</th>\n",
       "      <td>0.644432</td>\n",
       "      <td>1.570763</td>\n",
       "      <td>0.723178</td>\n",
       "      <td>0.618787</td>\n",
       "    </tr>\n",
       "    <tr>\n",
       "      <th>bbb</th>\n",
       "      <td>0.721627</td>\n",
       "      <td>0.653262</td>\n",
       "      <td>1.520680</td>\n",
       "      <td>0.933523</td>\n",
       "    </tr>\n",
       "    <tr>\n",
       "      <th>ccc</th>\n",
       "      <td>1.335850</td>\n",
       "      <td>0.576316</td>\n",
       "      <td>0.056712</td>\n",
       "      <td>1.769443</td>\n",
       "    </tr>\n",
       "    <tr>\n",
       "      <th>ddd</th>\n",
       "      <td>0.707586</td>\n",
       "      <td>0.682389</td>\n",
       "      <td>0.351531</td>\n",
       "      <td>1.237966</td>\n",
       "    </tr>\n",
       "    <tr>\n",
       "      <th>eee</th>\n",
       "      <td>0.603974</td>\n",
       "      <td>0.748069</td>\n",
       "      <td>0.415961</td>\n",
       "      <td>1.333073</td>\n",
       "    </tr>\n",
       "  </tbody>\n",
       "</table>\n",
       "</div>"
      ],
      "text/plain": [
       "            A         B         C         D\n",
       "aaa  0.644432  1.570763  0.723178  0.618787\n",
       "bbb  0.721627  0.653262  1.520680  0.933523\n",
       "ccc  1.335850  0.576316  0.056712  1.769443\n",
       "ddd  0.707586  0.682389  0.351531  1.237966\n",
       "eee  0.603974  0.748069  0.415961  1.333073"
      ]
     },
     "execution_count": 2,
     "metadata": {},
     "output_type": "execute_result"
    }
   ],
   "source": [
    "# 热力图\n",
    "import numpy as np\n",
    "from pandas import DataFrame\n",
    "import matplotlib.pyplot as plt\n",
    "\n",
    "index = ['aaa', 'bbb', 'ccc', 'ddd', 'eee']\n",
    "cols = ['A', 'B', 'C', 'D']\n",
    "df = DataFrame(abs(np.random.randn(5, 4)), index=index, columns=cols)\n",
    "df.head()\n"
   ]
  },
  {
   "cell_type": "code",
   "execution_count": 3,
   "metadata": {},
   "outputs": [
    {
     "data": {
      "image/png": "[encoded data removed]",
      "text/plain": [
       "<Figure size 432x288 with 1 Axes>"
      ]
     },
     "metadata": {
      "needs_background": "light"
     },
     "output_type": "display_data"
    }
   ],
   "source": [
    "plt.pcolor(df)\n",
    "plt.yticks(np.arange(0.5, len(df.index), 1), df.index)\n",
    "plt.xticks(np.arange(0.5, len(df.columns), 1), df.columns)\n",
    "plt.show()\n"
   ]
  },
  {
   "cell_type": "code",
   "execution_count": 5,
   "metadata": {
    "scrolled": true
   },
   "outputs": [
    {
     "data": {
      "image/png": "[encoded data removed]",
      "text/plain": [
       "<Figure size 432x288 with 2 Axes>"
      ]
     },
     "metadata": {
      "needs_background": "light"
     },
     "output_type": "display_data"
    }
   ],
   "source": [
    "import seaborn as sns\n",
    "\n",
    "sns.heatmap(df, annot=True)\n",
    "plt.show()\n"
   ]
  },
  {
   "cell_type": "code",
   "execution_count": null,
   "metadata": {},
   "outputs": [],
   "source": []
  }
 ],
 "metadata": {
  "kernelspec": {
   "display_name": "Python 3",
   "language": "python",
   "name": "python3"
  },
  "language_info": {
   "codemirror_mode": {
    "name": "ipython",
    "version": 3
   },
   "file_extension": ".py",
   "mimetype": "text/x-python",
   "name": "python",
   "nbconvert_exporter": "python",
   "pygments_lexer": "ipython3",
   "version": "3.7.0"
  },
  "pycharm": {
   "stem_cell": {
    "cell_type": "raw",
    "metadata": {
     "collapsed": false
    },
    "source": []
   }
  }
 },
 "nbformat": 4,
 "nbformat_minor": 2
}
